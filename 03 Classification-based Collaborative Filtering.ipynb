{
 "cells": [
  {
   "cell_type": "markdown",
   "metadata": {},
   "source": [
    "## Classification-based Collaborative Filtering Systems using Logistic Regression "
   ]
  },
  {
   "cell_type": "markdown",
   "metadata": {},
   "source": [
    "__Introduction:__\n",
    "In this type of recommender system, recommendations are made based on similarites between diffrent users. For example, suppose you are bank and a new customer has applied for a loan, the new customer don't have credit history and you want to know if she/he will pay back the loan. Colaborative filtering recommendation systems help us in this types of scenarios.\n",
    "The dataset is open-sourced and available for download at the UCI Machine Learning Repository (https://archive.ics.uci.edu/ml/datasets/Bank+Marketing#).\n",
    "    "
   ]
  },
  {
   "cell_type": "code",
   "execution_count": 16,
   "metadata": {},
   "outputs": [],
   "source": [
    "# importing libraries\n",
    "import numpy as np\n",
    "import pandas as pd\n",
    "from pandas import Series, DataFrame\n",
    "from sklearn.linear_model import LogisticRegression\n",
    "from sklearn.metrics import classification_report"
   ]
  },
  {
   "cell_type": "code",
   "execution_count": 17,
   "metadata": {},
   "outputs": [
    {
     "data": {
      "text/html": [
       "<div>\n",
       "<style scoped>\n",
       "    .dataframe tbody tr th:only-of-type {\n",
       "        vertical-align: middle;\n",
       "    }\n",
       "\n",
       "    .dataframe tbody tr th {\n",
       "        vertical-align: top;\n",
       "    }\n",
       "\n",
       "    .dataframe thead th {\n",
       "        text-align: right;\n",
       "    }\n",
       "</style>\n",
       "<table border=\"1\" class=\"dataframe\">\n",
       "  <thead>\n",
       "    <tr style=\"text-align: right;\">\n",
       "      <th></th>\n",
       "      <th>age</th>\n",
       "      <th>job</th>\n",
       "      <th>marital</th>\n",
       "      <th>education</th>\n",
       "      <th>default</th>\n",
       "      <th>balance</th>\n",
       "      <th>housing</th>\n",
       "      <th>loan</th>\n",
       "      <th>contact</th>\n",
       "      <th>day</th>\n",
       "      <th>...</th>\n",
       "      <th>job_unknown</th>\n",
       "      <th>job_retired</th>\n",
       "      <th>job_services</th>\n",
       "      <th>job_self_employed</th>\n",
       "      <th>job_unemployed</th>\n",
       "      <th>job_maid</th>\n",
       "      <th>job_student</th>\n",
       "      <th>married</th>\n",
       "      <th>single</th>\n",
       "      <th>divorced</th>\n",
       "    </tr>\n",
       "  </thead>\n",
       "  <tbody>\n",
       "    <tr>\n",
       "      <th>0</th>\n",
       "      <td>58</td>\n",
       "      <td>management</td>\n",
       "      <td>married</td>\n",
       "      <td>tertiary</td>\n",
       "      <td>no</td>\n",
       "      <td>2143</td>\n",
       "      <td>yes</td>\n",
       "      <td>no</td>\n",
       "      <td>unknown</td>\n",
       "      <td>5</td>\n",
       "      <td>...</td>\n",
       "      <td>0</td>\n",
       "      <td>0</td>\n",
       "      <td>0</td>\n",
       "      <td>0</td>\n",
       "      <td>0</td>\n",
       "      <td>0</td>\n",
       "      <td>0</td>\n",
       "      <td>1</td>\n",
       "      <td>0</td>\n",
       "      <td>0</td>\n",
       "    </tr>\n",
       "    <tr>\n",
       "      <th>1</th>\n",
       "      <td>44</td>\n",
       "      <td>technician</td>\n",
       "      <td>single</td>\n",
       "      <td>secondary</td>\n",
       "      <td>no</td>\n",
       "      <td>29</td>\n",
       "      <td>yes</td>\n",
       "      <td>no</td>\n",
       "      <td>unknown</td>\n",
       "      <td>5</td>\n",
       "      <td>...</td>\n",
       "      <td>0</td>\n",
       "      <td>0</td>\n",
       "      <td>0</td>\n",
       "      <td>0</td>\n",
       "      <td>0</td>\n",
       "      <td>0</td>\n",
       "      <td>0</td>\n",
       "      <td>0</td>\n",
       "      <td>1</td>\n",
       "      <td>1</td>\n",
       "    </tr>\n",
       "    <tr>\n",
       "      <th>2</th>\n",
       "      <td>33</td>\n",
       "      <td>entrepreneur</td>\n",
       "      <td>married</td>\n",
       "      <td>secondary</td>\n",
       "      <td>no</td>\n",
       "      <td>2</td>\n",
       "      <td>yes</td>\n",
       "      <td>yes</td>\n",
       "      <td>unknown</td>\n",
       "      <td>5</td>\n",
       "      <td>...</td>\n",
       "      <td>0</td>\n",
       "      <td>0</td>\n",
       "      <td>0</td>\n",
       "      <td>0</td>\n",
       "      <td>0</td>\n",
       "      <td>0</td>\n",
       "      <td>0</td>\n",
       "      <td>1</td>\n",
       "      <td>0</td>\n",
       "      <td>0</td>\n",
       "    </tr>\n",
       "    <tr>\n",
       "      <th>3</th>\n",
       "      <td>47</td>\n",
       "      <td>blue-collar</td>\n",
       "      <td>married</td>\n",
       "      <td>unknown</td>\n",
       "      <td>no</td>\n",
       "      <td>1506</td>\n",
       "      <td>yes</td>\n",
       "      <td>no</td>\n",
       "      <td>unknown</td>\n",
       "      <td>5</td>\n",
       "      <td>...</td>\n",
       "      <td>0</td>\n",
       "      <td>0</td>\n",
       "      <td>0</td>\n",
       "      <td>0</td>\n",
       "      <td>0</td>\n",
       "      <td>0</td>\n",
       "      <td>0</td>\n",
       "      <td>1</td>\n",
       "      <td>0</td>\n",
       "      <td>0</td>\n",
       "    </tr>\n",
       "    <tr>\n",
       "      <th>4</th>\n",
       "      <td>33</td>\n",
       "      <td>unknown</td>\n",
       "      <td>single</td>\n",
       "      <td>unknown</td>\n",
       "      <td>no</td>\n",
       "      <td>1</td>\n",
       "      <td>no</td>\n",
       "      <td>no</td>\n",
       "      <td>unknown</td>\n",
       "      <td>5</td>\n",
       "      <td>...</td>\n",
       "      <td>1</td>\n",
       "      <td>0</td>\n",
       "      <td>0</td>\n",
       "      <td>0</td>\n",
       "      <td>0</td>\n",
       "      <td>0</td>\n",
       "      <td>0</td>\n",
       "      <td>0</td>\n",
       "      <td>1</td>\n",
       "      <td>1</td>\n",
       "    </tr>\n",
       "  </tbody>\n",
       "</table>\n",
       "<p>5 rows × 37 columns</p>\n",
       "</div>"
      ],
      "text/plain": [
       "   age           job  marital  education default  balance housing loan  \\\n",
       "0   58    management  married   tertiary      no     2143     yes   no   \n",
       "1   44    technician   single  secondary      no       29     yes   no   \n",
       "2   33  entrepreneur  married  secondary      no        2     yes  yes   \n",
       "3   47   blue-collar  married    unknown      no     1506     yes   no   \n",
       "4   33       unknown   single    unknown      no        1      no   no   \n",
       "\n",
       "   contact  day  ... job_unknown                   \\\n",
       "0  unknown    5  ...                            0   \n",
       "1  unknown    5  ...                            0   \n",
       "2  unknown    5  ...                            0   \n",
       "3  unknown    5  ...                            0   \n",
       "4  unknown    5  ...                            1   \n",
       "\n",
       "   job_retired                   job_services                  \\\n",
       "0                             0                             0   \n",
       "1                             0                             0   \n",
       "2                             0                             0   \n",
       "3                             0                             0   \n",
       "4                             0                             0   \n",
       "\n",
       "   job_self_employed             job_unemployed                \\\n",
       "0                             0                             0   \n",
       "1                             0                             0   \n",
       "2                             0                             0   \n",
       "3                             0                             0   \n",
       "4                             0                             0   \n",
       "\n",
       "  job_maid                     job_student                   \\\n",
       "0                            0                            0   \n",
       "1                            0                            0   \n",
       "2                            0                            0   \n",
       "3                            0                            0   \n",
       "4                            0                            0   \n",
       "\n",
       "   married                       single                        \\\n",
       "0                             1                             0   \n",
       "1                             0                             1   \n",
       "2                             1                             0   \n",
       "3                             1                             0   \n",
       "4                             0                             1   \n",
       "\n",
       "   divorced                      \n",
       "0                             0  \n",
       "1                             1  \n",
       "2                             0  \n",
       "3                             0  \n",
       "4                             1  \n",
       "\n",
       "[5 rows x 37 columns]"
      ]
     },
     "execution_count": 17,
     "metadata": {},
     "output_type": "execute_result"
    }
   ],
   "source": [
    "# importing the data set. It's important to mention that the dataset is not it's original format. It includes some dummy variables that are created for this project\n",
    "bank_full = pd.read_csv('..Datasets//bank_full_w_dummy_vars.csv')\n",
    "bank_full.head()"
   ]
  },
  {
   "cell_type": "code",
   "execution_count": 18,
   "metadata": {},
   "outputs": [
    {
     "name": "stdout",
     "output_type": "stream",
     "text": [
      "<class 'pandas.core.frame.DataFrame'>\n",
      "RangeIndex: 45211 entries, 0 to 45210\n",
      "Data columns (total 37 columns):\n",
      "age                             45211 non-null int64\n",
      "job                             45211 non-null object\n",
      "marital                         45211 non-null object\n",
      "education                       45211 non-null object\n",
      "default                         45211 non-null object\n",
      "balance                         45211 non-null int64\n",
      "housing                         45211 non-null object\n",
      "loan                            45211 non-null object\n",
      "contact                         45211 non-null object\n",
      "day                             45211 non-null int64\n",
      "month                           45211 non-null object\n",
      "duration                        45211 non-null int64\n",
      "campaign                        45211 non-null int64\n",
      "pdays                           45211 non-null int64\n",
      "previous                        45211 non-null int64\n",
      "poutcome                        45211 non-null object\n",
      "y                               45211 non-null object\n",
      "y_binary                        45211 non-null int64\n",
      "housing_loan                    45211 non-null int64\n",
      "credit_in_default               45211 non-null int64\n",
      "personal_loans                  45211 non-null int64\n",
      "prev_failed_to_subscribe        45211 non-null int64\n",
      "prev_subscribed                 45211 non-null int64\n",
      "job_management                  45211 non-null int64\n",
      "job_tech                        45211 non-null int64\n",
      "job_entrepreneur                45211 non-null int64\n",
      "job_bluecollar                  45211 non-null int64\n",
      "job_unknown                     45211 non-null int64\n",
      "job_retired                     45211 non-null int64\n",
      "job_services                    45211 non-null int64\n",
      "job_self_employed               45211 non-null int64\n",
      "job_unemployed                  45211 non-null int64\n",
      "job_maid                        45211 non-null int64\n",
      "job_student                     45211 non-null int64\n",
      "married                         45211 non-null int64\n",
      "single                          45211 non-null int64\n",
      "divorced                        45211 non-null int64\n",
      "dtypes: int64(27), object(10)\n",
      "memory usage: 12.8+ MB\n"
     ]
    }
   ],
   "source": [
    "bank_full.info() # Understanding the dataset"
   ]
  },
  {
   "cell_type": "markdown",
   "metadata": {},
   "source": [
    "__y_binary__ column is the target column and we are going to be using it to train our model and predict whether new users, will subscribe based on their user attributes. \n",
    "We're going to train our model on the last 19 binary variables. These variables describe a persons housing loan status, their loan default status, their previous responses to past marketing campaigns, in other words whether they subscribed or did not subscribe in the past. It also describes their employment industry and their relationship status."
   ]
  },
  {
   "cell_type": "code",
   "execution_count": 19,
   "metadata": {},
   "outputs": [],
   "source": [
    "X = bank_full.iloc[:,[18,19,20,21,22,23,24,25,26,27,28,29,30,31,32,33,34,35,36]].values\n",
    "\n",
    "# target variable\n",
    "y = bank_full.iloc[:,17].values"
   ]
  },
  {
   "cell_type": "markdown",
   "metadata": {},
   "source": [
    "We are ready to train our model"
   ]
  },
  {
   "cell_type": "code",
   "execution_count": 20,
   "metadata": {},
   "outputs": [],
   "source": [
    "# instantiating logistic regression\n",
    "LogReg = LogisticRegression()\n",
    "LogReg.fit(X, y)\n",
    "y_pred = LogReg.predict(X)"
   ]
  },
  {
   "cell_type": "markdown",
   "metadata": {},
   "source": [
    "### Evaluating our model\n",
    "To evaluate the performance of our model we're going to use classification report function from sklearn."
   ]
  },
  {
   "cell_type": "code",
   "execution_count": 21,
   "metadata": {},
   "outputs": [
    {
     "name": "stdout",
     "output_type": "stream",
     "text": [
      "              precision    recall  f1-score   support\n",
      "\n",
      "           0       0.90      0.99      0.94     39922\n",
      "           1       0.67      0.17      0.27      5289\n",
      "\n",
      "    accuracy                           0.89     45211\n",
      "   macro avg       0.79      0.58      0.61     45211\n",
      "weighted avg       0.87      0.89      0.86     45211\n",
      "\n"
     ]
    }
   ],
   "source": [
    "# print our classificatin report function\n",
    "print(classification_report(y, y_pred))"
   ]
  },
  {
   "cell_type": "markdown",
   "metadata": {},
   "source": [
    "### Predicing a new customer"
   ]
  },
  {
   "cell_type": "markdown",
   "metadata": {},
   "source": [
    "Now, we want test our model with a new customer. We have some information about the new customer so we created a list of values for diffrent attributes that is 1 for attributes that are positive i,e present and 0 for negative or not present. Based of what we know about the new customer we want to predict a label, in other words what we are really predicting is whether he/she will accept the offer if we marketed to."
   ]
  },
  {
   "cell_type": "code",
   "execution_count": 13,
   "metadata": {},
   "outputs": [
    {
     "data": {
      "text/plain": [
       "array([0], dtype=int64)"
      ]
     },
     "execution_count": 13,
     "metadata": {},
     "output_type": "execute_result"
    }
   ],
   "source": [
    "new_user = [[0, 0, 0, 0, 0, 1, 0, 0, 0, 0, 0, 0, 0, 0, 0, 0, 0, 1, 1]]\n",
    "y_pred = LogReg.predict(new_user)\n",
    "y_pred"
   ]
  },
  {
   "cell_type": "markdown",
   "metadata": {},
   "source": [
    "We have got a label of 0 for the new customer which means that she/he will not accept the offer."
   ]
  },
  {
   "cell_type": "markdown",
   "metadata": {
    "collapsed": true
   },
   "source": [
    "<center> THE END <center/>"
   ]
  },
  {
   "cell_type": "code",
   "execution_count": null,
   "metadata": {},
   "outputs": [],
   "source": []
  }
 ],
 "metadata": {
  "kernelspec": {
   "display_name": "Python 3",
   "language": "python",
   "name": "python3"
  },
  "language_info": {
   "codemirror_mode": {
    "name": "ipython",
    "version": 3
   },
   "file_extension": ".py",
   "mimetype": "text/x-python",
   "name": "python",
   "nbconvert_exporter": "python",
   "pygments_lexer": "ipython3",
   "version": "3.6.10"
  }
 },
 "nbformat": 4,
 "nbformat_minor": 2
}
